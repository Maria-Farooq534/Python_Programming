{
 "cells": [
  {
   "cell_type": "markdown",
   "metadata": {},
   "source": [
    "Python_Programming : Assignment # 02"
   ]
  },
  {
   "cell_type": "markdown",
   "metadata": {},
   "source": [
    "Problem: Write a Python program that:\n",
    "1. Accepts a string, an integer, a float, and a boolean from the user.\n",
    "2. Initializes variables for each type, and prints them out.\n",
    "3. Convert the string to uppercase and print it.\n",
    "4. Check if the integer is even or odd and print the result.\n",
    "5. Multiply the float by 2 and print the result."
   ]
  },
  {
   "cell_type": "code",
   "execution_count": null,
   "metadata": {},
   "outputs": [
    {
     "name": "stdout",
     "output_type": "stream",
     "text": [
      "Given string in uppercase: FDHDFH\n",
      "45 is an odd number.\n"
     ]
    }
   ],
   "source": [
    "#String\n",
    "user_input_string = input(\"Enter a string: \")\n",
    "#Converting it to uppercase\n",
    "print(\"Given string in uppercase:\" , user_input_string.upper())\n",
    "\n",
    "#For Integer\n",
    "user_input_integer = int(input(\"Enter an Integer: \"))\n",
    "if user_input_integer % 2 == 0:\n",
    "    print(f\"{user_input_integer} is an even number.\")\n",
    "else:\n",
    "    print(f\"{user_input_integer} is an odd number.\")\n",
    "    "
   ]
  },
  {
   "cell_type": "code",
   "execution_count": 9,
   "metadata": {},
   "outputs": [
    {
     "name": "stdout",
     "output_type": "stream",
     "text": [
      "44 is an even number.\n"
     ]
    }
   ],
   "source": [
    "user_input_integer = int(input(\"Enter an Integer: \"))\n",
    "def number_check(number):\n",
    "    if number % 2 == 0:\n",
    "        print(f\"{number} is an even number.\")\n",
    "    else:\n",
    "        print(f\"{number} is an odd number.\")\n",
    "\n",
    "number_check(user_input_integer)"
   ]
  }
 ],
 "metadata": {
  "kernelspec": {
   "display_name": "Python 3",
   "language": "python",
   "name": "python3"
  },
  "language_info": {
   "codemirror_mode": {
    "name": "ipython",
    "version": 3
   },
   "file_extension": ".py",
   "mimetype": "text/x-python",
   "name": "python",
   "nbconvert_exporter": "python",
   "pygments_lexer": "ipython3",
   "version": "3.12.5"
  }
 },
 "nbformat": 4,
 "nbformat_minor": 2
}
