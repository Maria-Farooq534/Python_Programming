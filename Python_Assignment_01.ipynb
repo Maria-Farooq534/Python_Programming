{
 "cells": [
  {
   "cell_type": "markdown",
   "metadata": {},
   "source": [
    "Python_Programming : Assignment # 01"
   ]
  },
  {
   "cell_type": "markdown",
   "metadata": {},
   "source": [
    "Question 01\n",
    "Write a Python program that takes a string as input and prints:\n",
    "# 1. The string in reverse order.\n",
    "# 2. The number of vowels in the string.\n"
   ]
  },
  {
   "cell_type": "markdown",
   "metadata": {},
   "source": [
    "Part 01 : The string in reverse order."
   ]
  },
  {
   "cell_type": "markdown",
   "metadata": {},
   "source": [
    "Using Loop"
   ]
  },
  {
   "cell_type": "code",
   "execution_count": 22,
   "metadata": {},
   "outputs": [
    {
     "name": "stdout",
     "output_type": "stream",
     "text": [
      "olleh\n"
     ]
    }
   ],
   "source": [
    "user_input_string = input(\"Enter a String: \")\n",
    "reversed_string = \"\"\n",
    "for char in user_input_string:\n",
    "    #reversed_string = reversed_string + char   #It will return the same string\n",
    "    reversed_string = char + reversed_string\n",
    "print(reversed_string)\n"
   ]
  },
  {
   "cell_type": "markdown",
   "metadata": {},
   "source": [
    "Using a function"
   ]
  },
  {
   "cell_type": "markdown",
   "metadata": {},
   "source": [
    "slicing is always from start to stop. if we waana move backword we should use a step of -1. it inidicates\n",
    "-ve/backward direction."
   ]
  },
  {
   "cell_type": "code",
   "execution_count": null,
   "metadata": {},
   "outputs": [
    {
     "data": {
      "text/plain": [
       "'nohtyP olleH'"
      ]
     },
     "execution_count": 8,
     "metadata": {},
     "output_type": "execute_result"
    }
   ],
   "source": [
    "def reverse_string(strings):\n",
    "    return strings[::-1]  # Start , stop , step\n",
    "user_input = input(\"Enter a string: \") # Hello Python\n",
    "reverse_string(user_input)"
   ]
  },
  {
   "cell_type": "markdown",
   "metadata": {},
   "source": [
    "part 02 : The number of vowels in the string."
   ]
  },
  {
   "cell_type": "markdown",
   "metadata": {},
   "source": [
    "Using For loop"
   ]
  },
  {
   "cell_type": "code",
   "execution_count": null,
   "metadata": {},
   "outputs": [
    {
     "name": "stdout",
     "output_type": "stream",
     "text": [
      "e\n",
      "o\n"
     ]
    }
   ],
   "source": [
    "user_input_string = input(\"Enter a string: \")\n",
    "\n",
    "for vowel in user_input_string.lower():\n",
    "    #if vowel == [\"a\", \"e\" , \"i\" , \"o\" , \"u\"]:  this comparison is in between string and list, which will be false always.\n",
    "    if vowel in [\"a\", \"e\" , \"i\" , \"o\" , \"u\"]:  # Use \"in\" keyword\n",
    "        print(vowel)"
   ]
  },
  {
   "cell_type": "code",
   "execution_count": 21,
   "metadata": {},
   "outputs": [
    {
     "name": "stdout",
     "output_type": "stream",
     "text": [
      "o\n",
      "e\n"
     ]
    }
   ],
   "source": [
    "user_input_string = input(\"Enter a string: \")\n",
    "vowels = [\"a\", \"e\" , \"i\" , \"o\" , \"u\"]\n",
    "for vowel in user_input_string:\n",
    "    if vowel in vowels:\n",
    "        print(vowel)\n"
   ]
  },
  {
   "cell_type": "code",
   "execution_count": 23,
   "metadata": {},
   "outputs": [
    {
     "data": {
      "text/plain": [
       "'gnirts a'"
      ]
     },
     "execution_count": 23,
     "metadata": {},
     "output_type": "execute_result"
    }
   ],
   "source": [
    "user_input_string = input(\"Enter a string: \")\n",
    "def reversed_string(string):\n",
    "    return string[::-1] # start, stop and step.. step of -1 will start from backward direction.\n",
    "reversed_string(user_input_string)"
   ]
  },
  {
   "cell_type": "code",
   "execution_count": 5,
   "metadata": {},
   "outputs": [
    {
     "name": "stdout",
     "output_type": "stream",
     "text": [
      "The vowels in the string:  2\n"
     ]
    }
   ],
   "source": [
    "user_input_string = \"A string\"\n",
    "def check_vowels(string):\n",
    "    vowels = \"aeiouAEIOU\"\n",
    "    return sum(1 for char in string if char in vowels)\n",
    "    \n",
    "\n",
    "    \n",
    "print(\"The vowels in the string: \" , check_vowels(user_input_string))"
   ]
  },
  {
   "cell_type": "code",
   "execution_count": 15,
   "metadata": {},
   "outputs": [
    {
     "name": "stdout",
     "output_type": "stream",
     "text": [
      "vowels:  A\n",
      "vowels:  i\n",
      "2\n"
     ]
    }
   ],
   "source": [
    "user_input_string = \"A string\"\n",
    "#Method 01\n",
    "sum_vowels = ''\n",
    "for vowel in user_input_string:\n",
    "    if vowel.lower() in ['a','e','i','o','u']:\n",
    "        print(\"vowels: \" , vowel)\n",
    "        sum_vowels += vowel\n",
    "print(len(sum_vowels))"
   ]
  },
  {
   "cell_type": "code",
   "execution_count": 14,
   "metadata": {},
   "outputs": [
    {
     "name": "stdout",
     "output_type": "stream",
     "text": [
      "Vowel: A\n",
      "Vowel: i\n",
      "Number of vowels: 2\n"
     ]
    }
   ],
   "source": [
    "user_input_string = \"A string\"\n",
    "\n",
    "# Store only vowels\n",
    "sum_vowels = ''\n",
    "\n",
    "for vowel in user_input_string:\n",
    "    if vowel.lower() in ['a', 'e', 'i', 'o', 'u']:\n",
    "        print(\"Vowel:\", vowel)\n",
    "        sum_vowels += vowel  # Append only vowels\n",
    "\n",
    "# Print the correct count of vowels\n",
    "print(\"Number of vowels:\", len(sum_vowels))\n"
   ]
  },
  {
   "cell_type": "code",
   "execution_count": 16,
   "metadata": {},
   "outputs": [
    {
     "name": "stdout",
     "output_type": "stream",
     "text": [
      "vowels:  E\n",
      "vowels:  e\n",
      "vowels:  A\n",
      "vowels:  i\n",
      "Number of vowels:  4\n"
     ]
    }
   ],
   "source": [
    "user_input_string = \"Enter A string\"\n",
    "#Method 01\n",
    "sum_of_vowels = ''\n",
    "for vowel in user_input_string:\n",
    "    if vowel.lower() in ['a','e','i','o','u']:\n",
    "        print(\"vowels: \" , vowel)\n",
    "        sum_of_vowels += vowel\n",
    "print(\"Number of vowels: \", len(sum_of_vowels))"
   ]
  },
  {
   "cell_type": "markdown",
   "metadata": {},
   "source": [
    "Question Number 02"
   ]
  },
  {
   "cell_type": "markdown",
   "metadata": {},
   "source": []
  },
  {
   "cell_type": "markdown",
   "metadata": {},
   "source": [
    "#Question no 01 : Part 01\n",
    "#Reverse String\n",
    "#Method 01 : Using Function"
   ]
  },
  {
   "cell_type": "code",
   "execution_count": null,
   "metadata": {},
   "outputs": [],
   "source": [
    "user_input_string = input(\"Enter a string: \")\n",
    "def reversed_string(string):\n",
    "    return string[::-1] # start, stop and step.. step of -1 will start from backward direction.\n",
    "print(\"The reversed string is : \" ,reversed_string(user_input_string))\n",
    "\n",
    "#Method 02 : Using For loop\n",
    "print(\"Reverse string using for loop: \")\n",
    "reverse_user_string = ''\n",
    "for char in user_input_string:\n",
    "    reverse_user_string = char + reverse_user_string\n",
    "print(f\"User reversed string is: {reverse_user_string}\")"
   ]
  },
  {
   "cell_type": "markdown",
   "metadata": {},
   "source": [
    "\n",
    "#Question 01 : Part 02\n",
    "#Numbers of vowels in the string"
   ]
  },
  {
   "cell_type": "code",
   "execution_count": null,
   "metadata": {},
   "outputs": [],
   "source": [
    "#Method 02\n",
    "for vowel in user_input_string:\n",
    "    if vowel.lower() in \"aeiou\":\n",
    "        print(\"The vowels: \" , vowel)\n",
    "#Method 03 : Using a Function\n",
    "def check_vowels(string):\n",
    "    vowels = \"aeiouAEIOU\"\n",
    "    return sum(1 for char in string if char in vowels)   \n",
    "print(\"The vowels in the string: \" , check_vowels(user_input_string))"
   ]
  },
  {
   "cell_type": "code",
   "execution_count": null,
   "metadata": {},
   "outputs": [],
   "source": [
    "#Method 02\n",
    "for vowel in user_input_string:\n",
    "    if vowel.lower() in \"aeiou\":\n",
    "        print(\"The vowels: \" , vowel)"
   ]
  },
  {
   "cell_type": "markdown",
   "metadata": {},
   "source": [
    "Question 2: Hands-on Coding Project\n",
    "Problem: Create a Python program that:\n",
    "● Takes an input number from the user.\n",
    "● Checks whether the number is even or odd.\n",
    "● Prints the result."
   ]
  },
  {
   "cell_type": "code",
   "execution_count": 9,
   "metadata": {},
   "outputs": [
    {
     "name": "stdout",
     "output_type": "stream",
     "text": [
      "3 is an odd number.\n"
     ]
    }
   ],
   "source": [
    "number = int(input(\"Enter a number: \"))\n",
    "if number % 2 == 0:\n",
    "    print(f\"{number} is an even number\")\n",
    "        \n",
    "else:\n",
    "        \n",
    "    print(f\"{number} is an odd number.\")"
   ]
  },
  {
   "cell_type": "code",
   "execution_count": 7,
   "metadata": {},
   "outputs": [
    {
     "name": "stdout",
     "output_type": "stream",
     "text": [
      "3 is an odd number.\n"
     ]
    }
   ],
   "source": [
    "number = int(input(\"Enter a number: \"))\n",
    "\n",
    "\n",
    "def check_number(number):\n",
    "    if number % 2 == 0:\n",
    "        print(f\"{number} is an even number\")\n",
    "        \n",
    "    else:\n",
    "        \n",
    "        print(f\"{number} is an odd number.\")\n",
    "    \n",
    "    \n",
    "check_number(number)"
   ]
  },
  {
   "cell_type": "markdown",
   "metadata": {},
   "source": [
    "Question 3: Virtual Environment Application\n",
    "Problem: Create a Python program that:\n",
    "1. Takes a list of integers as input.\n",
    "2. Creates a new virtual environment called sortenv.\n",
    "3. Installs a package (such as numpy) in the virtual environment.\n",
    "4. Sorts the list using a numpy method (numpy.sort()).\n",
    "5. Prints the sorted list.\n"
   ]
  },
  {
   "cell_type": "code",
   "execution_count": 1,
   "metadata": {},
   "outputs": [],
   "source": [
    "import numpy as np"
   ]
  },
  {
   "cell_type": "code",
   "execution_count": 6,
   "metadata": {},
   "outputs": [
    {
     "name": "stdout",
     "output_type": "stream",
     "text": [
      "['2']\n",
      "['2', '3']\n",
      "['2', '3', '4']\n"
     ]
    }
   ],
   "source": [
    "\n",
    "number_list = list(input(\"Enter a list of integers: \"))\n",
    "new_list = []\n",
    "for item in number_list:\n",
    "    new_list += item\n",
    "    print(new_list)\n",
    "\n",
    "#numpy.sort()\n"
   ]
  },
  {
   "cell_type": "code",
   "execution_count": 8,
   "metadata": {},
   "outputs": [
    {
     "name": "stdout",
     "output_type": "stream",
     "text": [
      "Step 1: Create a virtual environment using:\n",
      " Python -m venv sortenv\n",
      "Step 2: Activate the virtual envorinment\n",
      " Windows: sortenv\\Scripts\\activate\n",
      " macOS/Linux: source sortenv/bin/activate\n",
      "Step 3: install NumPy in the virtual environment\n",
      " pip install numpy\n",
      "Step 4: Now, sorting the list using NumPy...\n",
      "Sorted list:  [2 3 5]\n"
     ]
    }
   ],
   "source": [
    "# importing necessary library\n",
    "# Function to sort the list\n",
    "def sort_list(arr):\n",
    "    return np.sort(arr)\n",
    "# Simulating virtual environment setup\n",
    "def setup_virtual_env():\n",
    "    print('Step 1: Create a virtual environment using:')\n",
    "    print(\" Python -m venv sortenv\")\n",
    "    print('Step 2: Activate the virtual envorinment')\n",
    "    print(' Windows: sortenv\\\\Scripts\\\\activate')\n",
    "    print(' macOS/Linux: source sortenv/bin/activate')\n",
    "    print('Step 3: install NumPy in the virtual environment')\n",
    "    print(' pip install numpy')\n",
    "    print('Step 4: Now, sorting the list using NumPy...')\n",
    "# Taking user input as a list of integers\n",
    "try:\n",
    "    user_input = input('Enter a list of numbers separated by spaces: ')\n",
    "    num_list = list(map(int,user_input.split()))\n",
    "# Running virtual environment simulation\n",
    "    setup_virtual_env()\n",
    "# Sorting and displaying the sorted list\n",
    "    print('Sorted list: ',sort_list(num_list))\n",
    "except ValueError:\n",
    "    print('Invalid input! Please enter a list of integers.')\n",
    "# _run_\n"
   ]
  },
  {
   "cell_type": "code",
   "execution_count": null,
   "metadata": {},
   "outputs": [
    {
     "name": "stdout",
     "output_type": "stream",
     "text": [
      "Create virtual environment by running this command: \n",
      "conda create -n sortenv pythoun==3.12 \n",
      "Activate Environment: \n",
      "conda activate sortenv\n",
      "Install Python library: Numpy\n",
      "!pip install numpy as np\n",
      "Sorted list:  [2 3 4]\n"
     ]
    }
   ],
   "source": [
    "#Virtual environment setup\n",
    "def setup_virtual_environment():\n",
    "    print(\"Create virtual environment using anaconda by running this command: \")\n",
    "    print(\"conda create -n sortenv pythoun==3.12 \")\n",
    "    print(\"Activate Environment: \")\n",
    "    print(\"conda activate sortenv\")\n",
    "    print(\"Install Python library: Numpy\")\n",
    "    print(\"!pip install numpy as np\")\n",
    "\n",
    "#Sorting array\n",
    "def sort_list(arr):\n",
    "    return np.sort(arr)\n",
    "\n",
    "#Taking input from user\n",
    "\n",
    "try:\n",
    "    user_input = input(\"Enter a list of integers seperated by space: \")\n",
    "    num_list = list(map(int, user_input.split()))\n",
    "    setup_virtual_environment()\n",
    "    print(\"Sorted list: \" , sort_list(num_list))\n",
    "except ValueError:\n",
    "    print(\"Invalid Input!\")"
   ]
  }
 ],
 "metadata": {
  "kernelspec": {
   "display_name": "Python 3",
   "language": "python",
   "name": "python3"
  },
  "language_info": {
   "codemirror_mode": {
    "name": "ipython",
    "version": 3
   },
   "file_extension": ".py",
   "mimetype": "text/x-python",
   "name": "python",
   "nbconvert_exporter": "python",
   "pygments_lexer": "ipython3",
   "version": "3.12.5"
  }
 },
 "nbformat": 4,
 "nbformat_minor": 2
}
