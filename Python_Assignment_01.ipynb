{
 "cells": [
  {
   "cell_type": "markdown",
   "metadata": {},
   "source": [
    "Python_Programming : Assignment # 01"
   ]
  },
  {
   "cell_type": "markdown",
   "metadata": {},
   "source": [
    "Question 01\n",
    "Write a Python program that takes a string as input and prints:\n",
    "# 1. The string in reverse order.\n",
    "# 2. The number of vowels in the string.\n"
   ]
  },
  {
   "cell_type": "markdown",
   "metadata": {},
   "source": [
    "Part 01 : The string in reverse order."
   ]
  },
  {
   "cell_type": "markdown",
   "metadata": {},
   "source": [
    "Using Loop"
   ]
  },
  {
   "cell_type": "code",
   "execution_count": 22,
   "metadata": {},
   "outputs": [
    {
     "name": "stdout",
     "output_type": "stream",
     "text": [
      "olleh\n"
     ]
    }
   ],
   "source": [
    "user_input_string = input(\"Enter a String: \")\n",
    "reversed_string = \"\"\n",
    "for char in user_input_string:\n",
    "    #reversed_string = reversed_string + char   #It will return the same string\n",
    "    reversed_string = char + reversed_string\n",
    "print(reversed_string)\n"
   ]
  },
  {
   "cell_type": "markdown",
   "metadata": {},
   "source": [
    "Using a function"
   ]
  },
  {
   "cell_type": "markdown",
   "metadata": {},
   "source": [
    "slicing is always from start to stop. if we waana move backword we should use a step of -1. it inidicates\n",
    "-ve/backward direction."
   ]
  },
  {
   "cell_type": "code",
   "execution_count": null,
   "metadata": {},
   "outputs": [
    {
     "data": {
      "text/plain": [
       "'nohtyP olleH'"
      ]
     },
     "execution_count": 8,
     "metadata": {},
     "output_type": "execute_result"
    }
   ],
   "source": [
    "def reverse_string(strings):\n",
    "    return strings[::-1]  # Start , stop , step\n",
    "user_input = input(\"Enter a string: \") # Hello Python\n",
    "reverse_string(user_input)"
   ]
  },
  {
   "cell_type": "markdown",
   "metadata": {},
   "source": [
    "part 02 : The number of vowels in the string."
   ]
  },
  {
   "cell_type": "markdown",
   "metadata": {},
   "source": [
    "Using For loop"
   ]
  },
  {
   "cell_type": "code",
   "execution_count": null,
   "metadata": {},
   "outputs": [
    {
     "name": "stdout",
     "output_type": "stream",
     "text": [
      "e\n",
      "o\n"
     ]
    }
   ],
   "source": [
    "user_input_string = input(\"Enter a string: \")\n",
    "\n",
    "for vowel in user_input_string.lower():\n",
    "    #if vowel == [\"a\", \"e\" , \"i\" , \"o\" , \"u\"]:  this comparison is in between string and list, which will be false always.\n",
    "    if vowel in [\"a\", \"e\" , \"i\" , \"o\" , \"u\"]:  # Use \"in\" keyword\n",
    "        print(vowel)"
   ]
  },
  {
   "cell_type": "code",
   "execution_count": 21,
   "metadata": {},
   "outputs": [
    {
     "name": "stdout",
     "output_type": "stream",
     "text": [
      "o\n",
      "e\n"
     ]
    }
   ],
   "source": [
    "user_input_string = input(\"Enter a string: \")\n",
    "vowels = [\"a\", \"e\" , \"i\" , \"o\" , \"u\"]\n",
    "for vowel in user_input_string:\n",
    "    if vowel in vowels:\n",
    "        print(vowel)\n"
   ]
  },
  {
   "cell_type": "code",
   "execution_count": 23,
   "metadata": {},
   "outputs": [
    {
     "data": {
      "text/plain": [
       "'gnirts a'"
      ]
     },
     "execution_count": 23,
     "metadata": {},
     "output_type": "execute_result"
    }
   ],
   "source": [
    "user_input_string = input(\"Enter a string: \")\n",
    "def reversed_string(string):\n",
    "    return string[::-1] # start, stop and step.. step of -1 will start from backward direction.\n",
    "reversed_string(user_input_string)"
   ]
  },
  {
   "cell_type": "code",
   "execution_count": 5,
   "metadata": {},
   "outputs": [
    {
     "name": "stdout",
     "output_type": "stream",
     "text": [
      "The vowels in the string:  2\n"
     ]
    }
   ],
   "source": [
    "user_input_string = \"A string\"\n",
    "def check_vowels(string):\n",
    "    vowels = \"aeiouAEIOU\"\n",
    "    return sum(1 for char in string if char in vowels)\n",
    "    \n",
    "\n",
    "    \n",
    "print(\"The vowels in the string: \" , check_vowels(user_input_string))"
   ]
  },
  {
   "cell_type": "code",
   "execution_count": 12,
   "metadata": {},
   "outputs": [
    {
     "name": "stdout",
     "output_type": "stream",
     "text": [
      "vowels:  A\n",
      "vowels:  i\n",
      "A string\n"
     ]
    }
   ],
   "source": [
    "user_input_string = \"A string\"\n",
    "#Method 01\n",
    "sum_vowels = ''\n",
    "for vowel in user_input_string:\n",
    "    if vowel.lower() in ['a','e','i','o','u']:\n",
    "        print(\"vowels: \" , vowel)\n",
    "    sum_vowels += vowel\n",
    "print(sum_vowels)"
   ]
  },
  {
   "cell_type": "markdown",
   "metadata": {},
   "source": [
    "Question Number 02"
   ]
  },
  {
   "cell_type": "markdown",
   "metadata": {},
   "source": []
  }
 ],
 "metadata": {
  "kernelspec": {
   "display_name": "Python 3",
   "language": "python",
   "name": "python3"
  },
  "language_info": {
   "codemirror_mode": {
    "name": "ipython",
    "version": 3
   },
   "file_extension": ".py",
   "mimetype": "text/x-python",
   "name": "python",
   "nbconvert_exporter": "python",
   "pygments_lexer": "ipython3",
   "version": "3.12.5"
  }
 },
 "nbformat": 4,
 "nbformat_minor": 2
}
