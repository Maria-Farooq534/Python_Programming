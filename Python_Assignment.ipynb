{
 "cells": [
  {
   "cell_type": "markdown",
   "metadata": {},
   "source": [
    "Python_Programming : Assignment # 02"
   ]
  },
  {
   "cell_type": "markdown",
   "metadata": {},
   "source": [
    "Problem: Write a Python program that:\n",
    "1. Accepts a string, an integer, a float, and a boolean from the user.\n",
    "2. Initializes variables for each type, and prints them out.\n",
    "3. Convert the string to uppercase and print it.\n",
    "4. Check if the integer is even or odd and print the result.\n",
    "5. Multiply the float by 2 and print the result."
   ]
  },
  {
   "cell_type": "code",
   "execution_count": 11,
   "metadata": {},
   "outputs": [
    {
     "data": {
      "text/plain": [
       "4.6"
      ]
     },
     "execution_count": 11,
     "metadata": {},
     "output_type": "execute_result"
    }
   ],
   "source": [
    "#For Float\n",
    "user_input_float = float(input(\"Enter a float: \"))\n",
    "\n",
    "def float_multiply(num):\n",
    "    return num*2\n",
    "\n",
    "\n",
    "float_multiply(user_input_float)"
   ]
  },
  {
   "cell_type": "code",
   "execution_count": null,
   "metadata": {},
   "outputs": [
    {
     "name": "stdout",
     "output_type": "stream",
     "text": [
      "Given string in uppercase: FDHDFH\n",
      "45 is an odd number.\n"
     ]
    }
   ],
   "source": [
    "#String\n",
    "user_input_string = input(\"Enter a string: \")\n",
    "#Converting it to uppercase\n",
    "print(\"Given string in uppercase:\" , user_input_string.upper())\n",
    "\n",
    "#For Integer\n",
    "user_input_integer = int(input(\"Enter an Integer: \"))\n",
    "if user_input_integer % 2 == 0:\n",
    "    print(f\"{user_input_integer} is an even number.\")\n",
    "else:\n",
    "    print(f\"{user_input_integer} is an odd number.\")\n",
    "    "
   ]
  },
  {
   "cell_type": "code",
   "execution_count": 9,
   "metadata": {},
   "outputs": [
    {
     "name": "stdout",
     "output_type": "stream",
     "text": [
      "44 is an even number.\n"
     ]
    }
   ],
   "source": [
    "user_input_integer = int(input(\"Enter an Integer: \"))\n",
    "def number_check(number):\n",
    "    if number % 2 == 0:\n",
    "        print(f\"{number} is an even number.\")\n",
    "    else:\n",
    "        print(f\"{number} is an odd number.\")\n",
    "\n",
    "number_check(user_input_integer)"
   ]
  },
  {
   "cell_type": "code",
   "execution_count": 14,
   "metadata": {},
   "outputs": [
    {
     "name": "stdout",
     "output_type": "stream",
     "text": [
      "True\n"
     ]
    }
   ],
   "source": [
    "user_input_bool = bool(input(\"Enter a bool: \"))\n",
    "try:\n",
    "    user_input_bool = bool(input(\"Enter a bool: \"))\n",
    "    print(user_input_bool)\n",
    "except ValueError:\n",
    "    print(\"Invalid Input\")"
   ]
  },
  {
   "cell_type": "code",
   "execution_count": 15,
   "metadata": {},
   "outputs": [
    {
     "name": "stdout",
     "output_type": "stream",
     "text": [
      "Given string: dhfsggf\n",
      "Given Integer Value: 344\n",
      "Given Boolean Value: True\n",
      "Given Float Value: 4.3\n"
     ]
    }
   ],
   "source": [
    "user_input_string = input(\"Enter a string: \")\n",
    "\n",
    "user_input_integer = int(input(\"Enter an Integer: \"))\n",
    "\n",
    "user_input_bool = bool(input(\"Enter a bool: \"))\n",
    "\n",
    "user_input_float = float(input(\"Enter a float: \"))\n",
    "\n",
    "print(\"Given string:\" , user_input_string)\n",
    "print(\"Given Integer Value:\" , user_input_integer)\n",
    "print(\"Given Boolean Value:\" , user_input_bool)\n",
    "print(\"Given Float Value:\" , user_input_float)"
   ]
  },
  {
   "cell_type": "code",
   "execution_count": 17,
   "metadata": {},
   "outputs": [
    {
     "name": "stdout",
     "output_type": "stream",
     "text": [
      "Given Boolean Value: True\n"
     ]
    }
   ],
   "source": [
    "user_input_bool = bool(input(\"Enter a bool: \"))\n",
    "print(\"Given Boolean Value:\" , user_input_bool)"
   ]
  },
  {
   "cell_type": "markdown",
   "metadata": {},
   "source": [
    "Question 2: Operators\n",
    "Problem: Write a Python program that:\n",
    "1. Accepts two numbers as input from the user.\n",
    "2. Performs and prints the result of all the arithmetic operations(addition, subtraction, \n",
    "multiplication, division, modulus, flow division) between these two numbers.\n",
    "3. Use comparison operators to check if the first number is greater than the second, and if they \n",
    "are equal.\n",
    "4. Use logical operatorsto combine two conditions (e.g., the first number is greater than the \n",
    "second, and the second number is less than 10)"
   ]
  },
  {
   "cell_type": "code",
   "execution_count": null,
   "metadata": {},
   "outputs": [],
   "source": [
    "#1. Accepts two numbers as input from the user.\n",
    "\n",
    "numbers = input(\"Enter numbers: \")"
   ]
  },
  {
   "cell_type": "code",
   "execution_count": 2,
   "metadata": {},
   "outputs": [
    {
     "name": "stdout",
     "output_type": "stream",
     "text": [
      "Hello\n"
     ]
    }
   ],
   "source": [
    "print(\"Hello\")"
   ]
  },
  {
   "cell_type": "code",
   "execution_count": 4,
   "metadata": {},
   "outputs": [
    {
     "name": "stdout",
     "output_type": "stream",
     "text": [
      "5\n"
     ]
    }
   ],
   "source": [
    "def sum_numbers(num1 , num2):\n",
    "    add = num1 + num2\n",
    "    return add\n",
    "\n",
    "#numbers = sum()\n",
    "print(sum_numbers(2,3))"
   ]
  },
  {
   "cell_type": "code",
   "execution_count": 17,
   "metadata": {},
   "outputs": [
    {
     "name": "stdout",
     "output_type": "stream",
     "text": [
      "red blue pink orange\n"
     ]
    }
   ],
   "source": [
    "#Unpacking\n",
    "\n",
    "color_list = [\"red\" , \"blue\" , \"pink\" , \"orange\"]\n",
    "\n",
    "x,y,z,r = (color_list)\n",
    "print(x,y,z,r)"
   ]
  },
  {
   "cell_type": "code",
   "execution_count": 21,
   "metadata": {},
   "outputs": [
    {
     "name": "stdout",
     "output_type": "stream",
     "text": [
      "(0 , 1)\n",
      "(0 , 2)\n",
      "(0 , 3)\n",
      "(0 , 4)\n",
      "(0 , 5)\n",
      "(1 , 1)\n",
      "(1 , 2)\n",
      "(1 , 3)\n",
      "(1 , 4)\n",
      "(1 , 5)\n",
      "(2 , 1)\n",
      "(2 , 2)\n",
      "(2 , 3)\n",
      "(2 , 4)\n",
      "(2 , 5)\n"
     ]
    }
   ],
   "source": [
    "\n",
    "for first in range(3):\n",
    "    \n",
    "    for second in range(1,6):\n",
    "        print(f\"({first} , {second})\")"
   ]
  }
 ],
 "metadata": {
  "kernelspec": {
   "display_name": "Python 3",
   "language": "python",
   "name": "python3"
  },
  "language_info": {
   "codemirror_mode": {
    "name": "ipython",
    "version": 3
   },
   "file_extension": ".py",
   "mimetype": "text/x-python",
   "name": "python",
   "nbconvert_exporter": "python",
   "pygments_lexer": "ipython3",
   "version": "3.12.5"
  }
 },
 "nbformat": 4,
 "nbformat_minor": 2
}
