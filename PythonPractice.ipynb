{
 "cells": [
  {
   "cell_type": "code",
   "execution_count": null,
   "id": "1cccedc4",
   "metadata": {},
   "outputs": [
    {
     "name": "stdout",
     "output_type": "stream",
     "text": [
      "You are not eligible!\n",
      "Yes\n"
     ]
    }
   ],
   "source": [
    "#Class Concepts\n",
    "class Age:\n",
    "    age = int(input(\"Enter your age: \"))\n",
    "    def less_than_20(age):\n",
    "        if age == 20:\n",
    "            print(\"You are eligible!\")\n",
    "        else:\n",
    "            print(\"You're not eligible!\")\n",
    "    \n",
    "    \n",
    "age1 = Age()\n",
    "age1.x = \"Yes\"\n",
    "age1.less_than_20()\n",
    "print(age1.x)"
   ]
  },
  {
   "cell_type": "markdown",
   "id": "350f0bd9",
   "metadata": {},
   "source": [
    "Higher rder functions"
   ]
  },
  {
   "cell_type": "code",
   "execution_count": 3,
   "id": "587dd329",
   "metadata": {},
   "outputs": [
    {
     "name": "stdout",
     "output_type": "stream",
     "text": [
      "[2, 4, 6, 8, 10]\n"
     ]
    }
   ],
   "source": [
    "def double(x):\n",
    "    return x* 2\n",
    "\n",
    "numbers = {1,2,3,4,5}\n",
    "doubled = list(map(double, numbers))\n",
    "print(doubled)"
   ]
  },
  {
   "cell_type": "code",
   "execution_count": 8,
   "id": "d13b15ce",
   "metadata": {},
   "outputs": [
    {
     "name": "stdout",
     "output_type": "stream",
     "text": [
      "[2, 4]\n"
     ]
    }
   ],
   "source": [
    "def check_even(n):\n",
    "    return n%2 == 0\n",
    "\n",
    "    \n",
    "number = {1,2,3,4,5}\n",
    "even = list(filter(check_even , number))\n",
    "print(even)"
   ]
  },
  {
   "cell_type": "code",
   "execution_count": 9,
   "id": "e220e110",
   "metadata": {},
   "outputs": [],
   "source": [
    "from functools import reduce"
   ]
  },
  {
   "cell_type": "code",
   "execution_count": null,
   "id": "b251fece",
   "metadata": {},
   "outputs": [
    {
     "name": "stdout",
     "output_type": "stream",
     "text": [
      "120\n"
     ]
    }
   ],
   "source": [
    "def multiply(x,y):\n",
    "    \n",
    "    return x*y\n",
    "numbers = {1,2,3,4,5}\n",
    "multiplied = reduce(multiply, numbers)\n",
    "print(multiplied)"
   ]
  },
  {
   "cell_type": "code",
   "execution_count": 15,
   "id": "37eca7c9",
   "metadata": {},
   "outputs": [
    {
     "name": "stdout",
     "output_type": "stream",
     "text": [
      "[('Maria', 45), ('Sehrish', 54), ('Misbah', 345)]\n"
     ]
    }
   ],
   "source": [
    "# Zip Function\n",
    "\n",
    "name = [\"Maria\" , \"Sehrish\", \"Misbah\"]\n",
    "age = [45, 54, 345]\n",
    "paired = list(zip(name , age))\n",
    "print(paired)"
   ]
  },
  {
   "cell_type": "code",
   "execution_count": 18,
   "id": "92b90ab7",
   "metadata": {},
   "outputs": [
    {
     "name": "stdout",
     "output_type": "stream",
     "text": [
      "1: apple\n",
      "2: banana\n",
      "3: orange\n"
     ]
    }
   ],
   "source": [
    "#enumerate\n",
    "fruits = ['apple', 'banana', 'orange']\n",
    "for i, item in enumerate(fruits, start=1):\n",
    "    print(f\"{i}: {item}\")"
   ]
  },
  {
   "cell_type": "code",
   "execution_count": 7,
   "id": "0da83e79",
   "metadata": {},
   "outputs": [
    {
     "name": "stdout",
     "output_type": "stream",
     "text": [
      "5\n",
      "6\n",
      "5 5\n"
     ]
    }
   ],
   "source": [
    "x=5\n",
    "y=6\n",
    "print(x)\n",
    "print(y)\n",
    "\n",
    "x=y = y=x\n",
    "print(x, y)\n"
   ]
  }
 ],
 "metadata": {
  "kernelspec": {
   "display_name": "Python 3",
   "language": "python",
   "name": "python3"
  },
  "language_info": {
   "codemirror_mode": {
    "name": "ipython",
    "version": 3
   },
   "file_extension": ".py",
   "mimetype": "text/x-python",
   "name": "python",
   "nbconvert_exporter": "python",
   "pygments_lexer": "ipython3",
   "version": "3.12.5"
  }
 },
 "nbformat": 4,
 "nbformat_minor": 5
}
