{
 "cells": [
  {
   "cell_type": "code",
   "execution_count": null,
   "id": "1cccedc4",
   "metadata": {},
   "outputs": [
    {
     "name": "stdout",
     "output_type": "stream",
     "text": [
      "You are not eligible!\n",
      "Yes\n"
     ]
    }
   ],
   "source": [
    "#Class Concepts\n",
    "class Age:\n",
    "    age = int(input(\"Enter your age: \"))\n",
    "    def less_than_20(age):\n",
    "        if age == 20:\n",
    "            print(\"You are eligible!\")\n",
    "        else:\n",
    "            print(\"You're not eligible!\")\n",
    "    \n",
    "    \n",
    "age1 = Age()\n",
    "age1.x = \"Yes\"\n",
    "age1.less_than_20()\n",
    "print(age1.x)"
   ]
  },
  {
   "cell_type": "code",
   "execution_count": 9,
   "id": "64bdef14",
   "metadata": {},
   "outputs": [],
   "source": [
    "def sum_numbers(number1 , number2):\n",
    "    sum = number1 + number2\n",
    "    return sum"
   ]
  },
  {
   "cell_type": "code",
   "execution_count": 10,
   "id": "5287527e",
   "metadata": {},
   "outputs": [
    {
     "name": "stdout",
     "output_type": "stream",
     "text": [
      "90\n"
     ]
    }
   ],
   "source": [
    "print(sum_numbers(34,56))"
   ]
  },
  {
   "cell_type": "code",
   "execution_count": 11,
   "id": "4fc8edf8",
   "metadata": {},
   "outputs": [],
   "source": [
    "def subtract_numbers(num1 , num2):\n",
    "    subtract = num1 - num2\n",
    "    return subtract"
   ]
  }
 ],
 "metadata": {
  "kernelspec": {
   "display_name": "Python 3",
   "language": "python",
   "name": "python3"
  },
  "language_info": {
   "codemirror_mode": {
    "name": "ipython",
    "version": 3
   },
   "file_extension": ".py",
   "mimetype": "text/x-python",
   "name": "python",
   "nbconvert_exporter": "python",
   "pygments_lexer": "ipython3",
   "version": "3.12.5"
  }
 },
 "nbformat": 4,
 "nbformat_minor": 5
}
