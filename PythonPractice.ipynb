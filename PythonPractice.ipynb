{
 "cells": [
  {
   "cell_type": "code",
   "execution_count": null,
   "id": "1cccedc4",
   "metadata": {},
   "outputs": [
    {
     "name": "stdout",
     "output_type": "stream",
     "text": [
      "You are not eligible!\n",
      "Yes\n"
     ]
    }
   ],
   "source": [
    "#Class Concepts\n",
    "class Age:\n",
    "    age = int(input(\"Enter your age: \"))\n",
    "    def less_than_20(age):\n",
    "        if age == 20:\n",
    "            print(\"You are eligible!\")\n",
    "        else:\n",
    "            print(\"You're not eligible!\")\n",
    "    \n",
    "    \n",
    "age1 = Age()\n",
    "age1.x = \"Yes\"\n",
    "age1.less_than_20()\n",
    "print(age1.x)"
   ]
  },
  {
   "cell_type": "code",
   "execution_count": 9,
   "id": "64bdef14",
   "metadata": {},
   "outputs": [],
   "source": [
    "def sum_numbers(number1 , number2):\n",
    "    sum = number1 + number2\n",
    "    return sum"
   ]
  },
  {
   "cell_type": "code",
   "execution_count": 10,
   "id": "5287527e",
   "metadata": {},
   "outputs": [
    {
     "name": "stdout",
     "output_type": "stream",
     "text": [
      "90\n"
     ]
    }
   ],
   "source": [
    "print(sum_numbers(34,56))"
   ]
  },
  {
   "cell_type": "code",
   "execution_count": 11,
   "id": "4fc8edf8",
   "metadata": {},
   "outputs": [],
   "source": [
    "def subtract_numbers(num1 , num2):\n",
    "    subtract = num1 - num2\n",
    "    return subtract"
   ]
  },
  {
   "cell_type": "code",
   "execution_count": 12,
   "id": "2c0c83d1",
   "metadata": {},
   "outputs": [
    {
     "name": "stdout",
     "output_type": "stream",
     "text": [
      "-22\n"
     ]
    }
   ],
   "source": [
    "print(subtract_numbers(23, 45))"
   ]
  },
  {
   "cell_type": "code",
   "execution_count": 13,
   "id": "6d745982",
   "metadata": {},
   "outputs": [
    {
     "name": "stdout",
     "output_type": "stream",
     "text": [
      "22\n"
     ]
    }
   ],
   "source": [
    "print(subtract_numbers(45, 23))"
   ]
  },
  {
   "cell_type": "code",
   "execution_count": 17,
   "id": "a30139a3",
   "metadata": {},
   "outputs": [],
   "source": [
    "def subtract_number(num1 , num2):\n",
    "    subtract = num1 - num2\n",
    "    \n",
    "    return subtract"
   ]
  },
  {
   "cell_type": "code",
   "execution_count": 16,
   "id": "92d8472a",
   "metadata": {},
   "outputs": [
    {
     "ename": "NameError",
     "evalue": "name 'subtract_number' is not defined",
     "output_type": "error",
     "traceback": [
      "\u001b[1;31m---------------------------------------------------------------------------\u001b[0m",
      "\u001b[1;31mNameError\u001b[0m                                 Traceback (most recent call last)",
      "Cell \u001b[1;32mIn[16], line 1\u001b[0m\n\u001b[1;32m----> 1\u001b[0m \u001b[38;5;28mprint\u001b[39m(\u001b[43msubtract_number\u001b[49m(\u001b[38;5;241m23\u001b[39m, \u001b[38;5;241m12\u001b[39m))\n",
      "\u001b[1;31mNameError\u001b[0m: name 'subtract_number' is not defined"
     ]
    }
   ],
   "source": [
    "print(subtract_number(23, 12))"
   ]
  }
 ],
 "metadata": {
  "kernelspec": {
   "display_name": "Python 3",
   "language": "python",
   "name": "python3"
  },
  "language_info": {
   "codemirror_mode": {
    "name": "ipython",
    "version": 3
   },
   "file_extension": ".py",
   "mimetype": "text/x-python",
   "name": "python",
   "nbconvert_exporter": "python",
   "pygments_lexer": "ipython3",
   "version": "3.12.5"
  }
 },
 "nbformat": 4,
 "nbformat_minor": 5
}
