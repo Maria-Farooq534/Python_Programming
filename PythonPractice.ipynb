{
 "cells": [
  {
   "cell_type": "code",
   "execution_count": 8,
   "id": "1cccedc4",
   "metadata": {},
   "outputs": [
    {
     "name": "stdout",
     "output_type": "stream",
     "text": [
      "You are not eligible!\n",
      "Yes\n"
     ]
    }
   ],
   "source": [
    "#Class Concepts\n",
    "class Age:\n",
    "    age = int(input(\"Enter your age: \"))\n",
    "    def less_than_20(age):\n",
    "        if age == 20:\n",
    "            print(\"You are eligible!\")\n",
    "        else:\n",
    "            print(\"You are not eligible!\")\n",
    "    \n",
    "    \n",
    "age1 = Age()\n",
    "age1.x = \"Yes\"\n",
    "age1.less_than_20()\n",
    "print(age1.x)"
   ]
  }
 ],
 "metadata": {
  "kernelspec": {
   "display_name": "Python 3",
   "language": "python",
   "name": "python3"
  },
  "language_info": {
   "codemirror_mode": {
    "name": "ipython",
    "version": 3
   },
   "file_extension": ".py",
   "mimetype": "text/x-python",
   "name": "python",
   "nbconvert_exporter": "python",
   "pygments_lexer": "ipython3",
   "version": "3.12.5"
  }
 },
 "nbformat": 4,
 "nbformat_minor": 5
}
